{
 "cells": [
  {
   "cell_type": "code",
   "execution_count": 1,
   "id": "049669f3",
   "metadata": {},
   "outputs": [],
   "source": [
    "import pandas as pd\n",
    "\n",
    "full_df = pd.read_csv(\"concatenated_dataset.csv\")"
   ]
  },
  {
   "cell_type": "code",
   "execution_count": 2,
   "id": "aa415c50",
   "metadata": {},
   "outputs": [
    {
     "data": {
      "text/html": [
       "<div>\n",
       "<style scoped>\n",
       "    .dataframe tbody tr th:only-of-type {\n",
       "        vertical-align: middle;\n",
       "    }\n",
       "\n",
       "    .dataframe tbody tr th {\n",
       "        vertical-align: top;\n",
       "    }\n",
       "\n",
       "    .dataframe thead th {\n",
       "        text-align: right;\n",
       "    }\n",
       "</style>\n",
       "<table border=\"1\" class=\"dataframe\">\n",
       "  <thead>\n",
       "    <tr style=\"text-align: right;\">\n",
       "      <th></th>\n",
       "      <th>content</th>\n",
       "      <th>label</th>\n",
       "    </tr>\n",
       "  </thead>\n",
       "  <tbody>\n",
       "    <tr>\n",
       "      <th>0</th>\n",
       "      <td>일안하는 시간은 쉬고싶어서 그런게 아닐까</td>\n",
       "      <td>0</td>\n",
       "    </tr>\n",
       "    <tr>\n",
       "      <th>1</th>\n",
       "      <td>아동성범죄와 페도버는 기록바 끊어져 영원히 고통 받는다. 무슬림 50퍼 근친이다. ...</td>\n",
       "      <td>1</td>\n",
       "    </tr>\n",
       "    <tr>\n",
       "      <th>2</th>\n",
       "      <td>루나 솔로앨범 나왔을 때부터 머모 기운 있었음 ㅇㅇ Keep o  doin 진짜 띵...</td>\n",
       "      <td>0</td>\n",
       "    </tr>\n",
       "    <tr>\n",
       "      <th>3</th>\n",
       "      <td>홍팍에도 어버이연합인가 보내요 뭐 이런뎃글 있는데 이거 어버이연합측에 신고하면 그쪽...</td>\n",
       "      <td>0</td>\n",
       "    </tr>\n",
       "    <tr>\n",
       "      <th>4</th>\n",
       "      <td>아놔 왜 여기 댓들은 다 여자들이 김치녀라고 먼저 불렸다! 여자들은 더 심하게 그런...</td>\n",
       "      <td>1</td>\n",
       "    </tr>\n",
       "    <tr>\n",
       "      <th>...</th>\n",
       "      <td>...</td>\n",
       "      <td>...</td>\n",
       "    </tr>\n",
       "    <tr>\n",
       "      <th>130825</th>\n",
       "      <td>아...내가 제일 싫어하는 싸보이는 여자네...진짜 싼티난다.</td>\n",
       "      <td>0</td>\n",
       "    </tr>\n",
       "    <tr>\n",
       "      <th>130826</th>\n",
       "      <td>ㅋㅋㅋㅋㅋㅋㅋㅋㅋㅋㅋㅋㅋㅋㅋㅋㅋㅋㅋㅋㅋ 파혼했는데 좋은 선후배여윾시 개그맨 것들은 ...</td>\n",
       "      <td>2</td>\n",
       "    </tr>\n",
       "    <tr>\n",
       "      <th>130827</th>\n",
       "      <td>니기미 나는 흔한공황장애 장애가 없어서 벌금이빠이</td>\n",
       "      <td>1</td>\n",
       "    </tr>\n",
       "    <tr>\n",
       "      <th>130828</th>\n",
       "      <td>도 찌질하네 과거들추기는 추하다</td>\n",
       "      <td>0</td>\n",
       "    </tr>\n",
       "    <tr>\n",
       "      <th>130829</th>\n",
       "      <td>할매젖x, 뱃살x, 몸매 s라인, 유륜은 적당해야됨(너무크거나 너무 작아도 x), ...</td>\n",
       "      <td>0</td>\n",
       "    </tr>\n",
       "  </tbody>\n",
       "</table>\n",
       "<p>130830 rows × 2 columns</p>\n",
       "</div>"
      ],
      "text/plain": [
       "                                                  content  label\n",
       "0                                  일안하는 시간은 쉬고싶어서 그런게 아닐까      0\n",
       "1       아동성범죄와 페도버는 기록바 끊어져 영원히 고통 받는다. 무슬림 50퍼 근친이다. ...      1\n",
       "2       루나 솔로앨범 나왔을 때부터 머모 기운 있었음 ㅇㅇ Keep o  doin 진짜 띵...      0\n",
       "3       홍팍에도 어버이연합인가 보내요 뭐 이런뎃글 있는데 이거 어버이연합측에 신고하면 그쪽...      0\n",
       "4       아놔 왜 여기 댓들은 다 여자들이 김치녀라고 먼저 불렸다! 여자들은 더 심하게 그런...      1\n",
       "...                                                   ...    ...\n",
       "130825                 아...내가 제일 싫어하는 싸보이는 여자네...진짜 싼티난다.      0\n",
       "130826  ㅋㅋㅋㅋㅋㅋㅋㅋㅋㅋㅋㅋㅋㅋㅋㅋㅋㅋㅋㅋㅋ 파혼했는데 좋은 선후배여윾시 개그맨 것들은 ...      2\n",
       "130827                        니기미 나는 흔한공황장애 장애가 없어서 벌금이빠이      1\n",
       "130828                                  도 찌질하네 과거들추기는 추하다      0\n",
       "130829  할매젖x, 뱃살x, 몸매 s라인, 유륜은 적당해야됨(너무크거나 너무 작아도 x), ...      0\n",
       "\n",
       "[130830 rows x 2 columns]"
      ]
     },
     "execution_count": 2,
     "metadata": {},
     "output_type": "execute_result"
    }
   ],
   "source": [
    "full_df"
   ]
  },
  {
   "cell_type": "code",
   "execution_count": 3,
   "id": "9c396a8b",
   "metadata": {},
   "outputs": [
    {
     "data": {
      "text/html": [
       "<div>\n",
       "<style scoped>\n",
       "    .dataframe tbody tr th:only-of-type {\n",
       "        vertical-align: middle;\n",
       "    }\n",
       "\n",
       "    .dataframe tbody tr th {\n",
       "        vertical-align: top;\n",
       "    }\n",
       "\n",
       "    .dataframe thead th {\n",
       "        text-align: right;\n",
       "    }\n",
       "</style>\n",
       "<table border=\"1\" class=\"dataframe\">\n",
       "  <thead>\n",
       "    <tr style=\"text-align: right;\">\n",
       "      <th></th>\n",
       "      <th>content</th>\n",
       "      <th>label</th>\n",
       "    </tr>\n",
       "  </thead>\n",
       "  <tbody>\n",
       "    <tr>\n",
       "      <th>30834</th>\n",
       "      <td>동료 여경 집단 성희롱’ 태백 경찰관들 12일 징계 논의-----예비강간마새끼들 기...</td>\n",
       "      <td>2</td>\n",
       "    </tr>\n",
       "    <tr>\n",
       "      <th>30841</th>\n",
       "      <td>여튼 애완동물키우는놈들 다 죽었으면 ㅉ 좁은 집안에서 키우는거 자체가 학대인걸 모르나</td>\n",
       "      <td>3</td>\n",
       "    </tr>\n",
       "    <tr>\n",
       "      <th>30859</th>\n",
       "      <td>스가잔당들이 처~먹을 생선들인가</td>\n",
       "      <td>3</td>\n",
       "    </tr>\n",
       "    <tr>\n",
       "      <th>30865</th>\n",
       "      <td>설마 했는데 역시 중공이었네... 짱깨들 맥주40병 쳐마신게 ...왜 ....</td>\n",
       "      <td>3</td>\n",
       "    </tr>\n",
       "    <tr>\n",
       "      <th>30868</th>\n",
       "      <td>Cㅂ ㅏ ㅇ ㅏㄱ ㅏㅃ ㅏ 뤼 다 트자 뿔 ㄹ ㅏ</td>\n",
       "      <td>2</td>\n",
       "    </tr>\n",
       "    <tr>\n",
       "      <th>...</th>\n",
       "      <td>...</td>\n",
       "      <td>...</td>\n",
       "    </tr>\n",
       "    <tr>\n",
       "      <th>130793</th>\n",
       "      <td>헬조선 김치들의 마녀사냥 토할거같다...</td>\n",
       "      <td>2</td>\n",
       "    </tr>\n",
       "    <tr>\n",
       "      <th>130809</th>\n",
       "      <td>어장관리 하는 저질 프로그램</td>\n",
       "      <td>2</td>\n",
       "    </tr>\n",
       "    <tr>\n",
       "      <th>130811</th>\n",
       "      <td>칼들고?진짜 살인 할듯.. 소시오패스인가?엿을 날려? 인성이 쓰레기급 ㄷㄷ 근데 애...</td>\n",
       "      <td>3</td>\n",
       "    </tr>\n",
       "    <tr>\n",
       "      <th>130819</th>\n",
       "      <td>저 성폭력 당했어요 이게유행이냐 왜 들하고나서 지랄들이야 안할라면 얼마든지 안할수잇...</td>\n",
       "      <td>2</td>\n",
       "    </tr>\n",
       "    <tr>\n",
       "      <th>130826</th>\n",
       "      <td>ㅋㅋㅋㅋㅋㅋㅋㅋㅋㅋㅋㅋㅋㅋㅋㅋㅋㅋㅋㅋㅋ 파혼했는데 좋은 선후배여윾시 개그맨 것들은 ...</td>\n",
       "      <td>2</td>\n",
       "    </tr>\n",
       "  </tbody>\n",
       "</table>\n",
       "<p>12255 rows × 2 columns</p>\n",
       "</div>"
      ],
      "text/plain": [
       "                                                  content  label\n",
       "30834   동료 여경 집단 성희롱’ 태백 경찰관들 12일 징계 논의-----예비강간마새끼들 기...      2\n",
       "30841     여튼 애완동물키우는놈들 다 죽었으면 ㅉ 좁은 집안에서 키우는거 자체가 학대인걸 모르나      3\n",
       "30859                                   스가잔당들이 처~먹을 생선들인가      3\n",
       "30865         설마 했는데 역시 중공이었네... 짱깨들 맥주40병 쳐마신게 ...왜 ....      3\n",
       "30868                         Cㅂ ㅏ ㅇ ㅏㄱ ㅏㅃ ㅏ 뤼 다 트자 뿔 ㄹ ㅏ      2\n",
       "...                                                   ...    ...\n",
       "130793                             헬조선 김치들의 마녀사냥 토할거같다...      2\n",
       "130809                                    어장관리 하는 저질 프로그램      2\n",
       "130811  칼들고?진짜 살인 할듯.. 소시오패스인가?엿을 날려? 인성이 쓰레기급 ㄷㄷ 근데 애...      3\n",
       "130819  저 성폭력 당했어요 이게유행이냐 왜 들하고나서 지랄들이야 안할라면 얼마든지 안할수잇...      2\n",
       "130826  ㅋㅋㅋㅋㅋㅋㅋㅋㅋㅋㅋㅋㅋㅋㅋㅋㅋㅋㅋㅋㅋ 파혼했는데 좋은 선후배여윾시 개그맨 것들은 ...      2\n",
       "\n",
       "[12255 rows x 2 columns]"
      ]
     },
     "execution_count": 3,
     "metadata": {},
     "output_type": "execute_result"
    }
   ],
   "source": [
    "# label이 2인 것 발견\n",
    "full_df.loc[full_df['label'] > 1]"
   ]
  },
  {
   "cell_type": "code",
   "execution_count": 8,
   "id": "549b66bc",
   "metadata": {},
   "outputs": [
    {
     "data": {
      "text/plain": [
       "12255"
      ]
     },
     "execution_count": 8,
     "metadata": {},
     "output_type": "execute_result"
    }
   ],
   "source": [
    "# label count\n",
    "len(full_df.loc[full_df['label'] > 1])"
   ]
  },
  {
   "cell_type": "code",
   "execution_count": 9,
   "id": "2fd682ad",
   "metadata": {},
   "outputs": [],
   "source": [
    "# label이 2인 값들을 1로 변환\n",
    "full_df = full_df.replace({'label':3},1)\n",
    "full_df = full_df.replace({'label':2},1)"
   ]
  },
  {
   "cell_type": "code",
   "execution_count": 10,
   "id": "2c480560",
   "metadata": {},
   "outputs": [
    {
     "data": {
      "text/plain": [
       "0"
      ]
     },
     "execution_count": 10,
     "metadata": {},
     "output_type": "execute_result"
    }
   ],
   "source": [
    "# label에 2가 없는 것 확인\n",
    "len(full_df.loc[full_df['label'] > 1])"
   ]
  },
  {
   "cell_type": "code",
   "execution_count": 11,
   "id": "4de2737e",
   "metadata": {},
   "outputs": [],
   "source": [
    "train_df = full_df.sample(frac=0.6,random_state=2023)"
   ]
  },
  {
   "cell_type": "code",
   "execution_count": 12,
   "id": "7d01ef1a",
   "metadata": {},
   "outputs": [
    {
     "data": {
      "text/plain": [
       "78498"
      ]
     },
     "execution_count": 12,
     "metadata": {},
     "output_type": "execute_result"
    }
   ],
   "source": [
    "len(train_df)"
   ]
  },
  {
   "cell_type": "code",
   "execution_count": 13,
   "id": "d290b74d",
   "metadata": {},
   "outputs": [],
   "source": [
    "test_df = full_df.drop(train_df.index)"
   ]
  },
  {
   "cell_type": "code",
   "execution_count": 14,
   "id": "9c19e733",
   "metadata": {},
   "outputs": [
    {
     "data": {
      "text/plain": [
       "52332"
      ]
     },
     "execution_count": 14,
     "metadata": {},
     "output_type": "execute_result"
    }
   ],
   "source": [
    "len(test_df)"
   ]
  },
  {
   "cell_type": "code",
   "execution_count": 15,
   "id": "23322fbb",
   "metadata": {},
   "outputs": [
    {
     "data": {
      "text/plain": [
       "130830"
      ]
     },
     "execution_count": 15,
     "metadata": {},
     "output_type": "execute_result"
    }
   ],
   "source": [
    "78498 + 52332"
   ]
  },
  {
   "cell_type": "code",
   "execution_count": 16,
   "id": "c4f83602",
   "metadata": {},
   "outputs": [
    {
     "data": {
      "text/plain": [
       "130830"
      ]
     },
     "execution_count": 16,
     "metadata": {},
     "output_type": "execute_result"
    }
   ],
   "source": [
    "len(full_df)"
   ]
  },
  {
   "cell_type": "code",
   "execution_count": 17,
   "id": "6a37d8e8",
   "metadata": {},
   "outputs": [],
   "source": [
    "train_df.to_csv(\"concatenated_dataset_train.csv\", encoding='utf-8-sig', index=False)\n",
    "test_df.to_csv(\"concatenated_dataset_test.csv\", encoding='utf-8-sig', index=False)"
   ]
  }
 ],
 "metadata": {
  "kernelspec": {
   "display_name": "Python 3 (ipykernel)",
   "language": "python",
   "name": "python3"
  },
  "language_info": {
   "codemirror_mode": {
    "name": "ipython",
    "version": 3
   },
   "file_extension": ".py",
   "mimetype": "text/x-python",
   "name": "python",
   "nbconvert_exporter": "python",
   "pygments_lexer": "ipython3",
   "version": "3.7.13"
  }
 },
 "nbformat": 4,
 "nbformat_minor": 5
}
